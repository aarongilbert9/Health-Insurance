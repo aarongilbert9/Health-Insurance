{
 "cells": [
  {
   "cell_type": "code",
   "execution_count": 1,
   "id": "09fdd7b5-dfd9-4328-8d2c-04ac0aca9ee7",
   "metadata": {},
   "outputs": [],
   "source": [
    "# importing libraries\n",
    "\n",
    "import pandas as pd\n",
    "import numpy as np\n",
    "import os\n",
    "import matplotlib.pyplot as plt\n",
    "import seaborn as sns\n",
    "import scipy"
   ]
  },
  {
   "cell_type": "code",
   "execution_count": 2,
   "id": "379701f2-4adb-42af-950f-49f1fbaee1b8",
   "metadata": {},
   "outputs": [],
   "source": [
    "path = r'C:\\Users\\aaron\\OneDrive\\Desktop\\Health Insurance Analysis'"
   ]
  },
  {
   "cell_type": "code",
   "execution_count": 3,
   "id": "77b481ed-bf4f-4a93-87c9-2512237f6c28",
   "metadata": {},
   "outputs": [
    {
     "data": {
      "text/plain": [
       "'C:\\\\Users\\\\aaron\\\\OneDrive\\\\Desktop\\\\Health Insurance Analysis'"
      ]
     },
     "execution_count": 3,
     "metadata": {},
     "output_type": "execute_result"
    }
   ],
   "source": [
    "path"
   ]
  },
  {
   "cell_type": "code",
   "execution_count": 95,
   "id": "c80b4500-969a-4e52-9622-046585f1fa20",
   "metadata": {},
   "outputs": [],
   "source": [
    "# installing dataframe\n",
    "Insurance = pd.read_csv(os.path.join(path, '02 Data', 'Original data', 'insurance.csv'), index_col = False)"
   ]
  },
  {
   "cell_type": "code",
   "execution_count": 62,
   "id": "2342576f-a869-4411-b4d7-51593a8bb933",
   "metadata": {},
   "outputs": [
    {
     "data": {
      "text/plain": [
       "(1338, 7)"
      ]
     },
     "execution_count": 62,
     "metadata": {},
     "output_type": "execute_result"
    }
   ],
   "source": [
    "Insurance.shape"
   ]
  },
  {
   "cell_type": "code",
   "execution_count": 101,
   "id": "e23610c0-9721-4fe2-8358-1e2b083ec027",
   "metadata": {},
   "outputs": [
    {
     "data": {
      "text/html": [
       "<div>\n",
       "<style scoped>\n",
       "    .dataframe tbody tr th:only-of-type {\n",
       "        vertical-align: middle;\n",
       "    }\n",
       "\n",
       "    .dataframe tbody tr th {\n",
       "        vertical-align: top;\n",
       "    }\n",
       "\n",
       "    .dataframe thead th {\n",
       "        text-align: right;\n",
       "    }\n",
       "</style>\n",
       "<table border=\"1\" class=\"dataframe\">\n",
       "  <thead>\n",
       "    <tr style=\"text-align: right;\">\n",
       "      <th></th>\n",
       "      <th>age</th>\n",
       "      <th>sex</th>\n",
       "      <th>bmi</th>\n",
       "      <th>children</th>\n",
       "      <th>smoker</th>\n",
       "      <th>region</th>\n",
       "      <th>charges</th>\n",
       "    </tr>\n",
       "  </thead>\n",
       "  <tbody>\n",
       "    <tr>\n",
       "      <th>0</th>\n",
       "      <td>19</td>\n",
       "      <td>female</td>\n",
       "      <td>27.900</td>\n",
       "      <td>0</td>\n",
       "      <td>yes</td>\n",
       "      <td>southwest</td>\n",
       "      <td>16884.92400</td>\n",
       "    </tr>\n",
       "    <tr>\n",
       "      <th>1</th>\n",
       "      <td>18</td>\n",
       "      <td>male</td>\n",
       "      <td>33.770</td>\n",
       "      <td>1</td>\n",
       "      <td>no</td>\n",
       "      <td>southeast</td>\n",
       "      <td>1725.55230</td>\n",
       "    </tr>\n",
       "    <tr>\n",
       "      <th>2</th>\n",
       "      <td>28</td>\n",
       "      <td>male</td>\n",
       "      <td>33.000</td>\n",
       "      <td>3</td>\n",
       "      <td>no</td>\n",
       "      <td>southeast</td>\n",
       "      <td>4449.46200</td>\n",
       "    </tr>\n",
       "    <tr>\n",
       "      <th>3</th>\n",
       "      <td>33</td>\n",
       "      <td>male</td>\n",
       "      <td>22.705</td>\n",
       "      <td>0</td>\n",
       "      <td>no</td>\n",
       "      <td>northwest</td>\n",
       "      <td>21984.47061</td>\n",
       "    </tr>\n",
       "    <tr>\n",
       "      <th>4</th>\n",
       "      <td>32</td>\n",
       "      <td>male</td>\n",
       "      <td>28.880</td>\n",
       "      <td>0</td>\n",
       "      <td>no</td>\n",
       "      <td>northwest</td>\n",
       "      <td>3866.85520</td>\n",
       "    </tr>\n",
       "  </tbody>\n",
       "</table>\n",
       "</div>"
      ],
      "text/plain": [
       "   age     sex     bmi  children smoker     region      charges\n",
       "0   19  female  27.900         0    yes  southwest  16884.92400\n",
       "1   18    male  33.770         1     no  southeast   1725.55230\n",
       "2   28    male  33.000         3     no  southeast   4449.46200\n",
       "3   33    male  22.705         0     no  northwest  21984.47061\n",
       "4   32    male  28.880         0     no  northwest   3866.85520"
      ]
     },
     "execution_count": 101,
     "metadata": {},
     "output_type": "execute_result"
    }
   ],
   "source": [
    "Insurance.head()"
   ]
  },
  {
   "cell_type": "code",
   "execution_count": 105,
   "id": "ae8b60db-0c46-429c-94f1-d81a69c03f7e",
   "metadata": {},
   "outputs": [
    {
     "name": "stdout",
     "output_type": "stream",
     "text": [
      "<class 'pandas.core.frame.DataFrame'>\n",
      "RangeIndex: 1338 entries, 0 to 1337\n",
      "Data columns (total 7 columns):\n",
      " #   Column    Non-Null Count  Dtype  \n",
      "---  ------    --------------  -----  \n",
      " 0   age       1338 non-null   int64  \n",
      " 1   sex       1338 non-null   object \n",
      " 2   bmi       1338 non-null   float64\n",
      " 3   children  1338 non-null   int64  \n",
      " 4   smoker    1338 non-null   object \n",
      " 5   region    1338 non-null   object \n",
      " 6   charges   1338 non-null   float64\n",
      "dtypes: float64(2), int64(2), object(3)\n",
      "memory usage: 73.3+ KB\n"
     ]
    }
   ],
   "source": [
    "Insurance.info()"
   ]
  },
  {
   "cell_type": "code",
   "execution_count": 66,
   "id": "d39d84e3-0dc7-4f03-9b92-64e5a3768c86",
   "metadata": {},
   "outputs": [
    {
     "data": {
      "text/html": [
       "<div>\n",
       "<style scoped>\n",
       "    .dataframe tbody tr th:only-of-type {\n",
       "        vertical-align: middle;\n",
       "    }\n",
       "\n",
       "    .dataframe tbody tr th {\n",
       "        vertical-align: top;\n",
       "    }\n",
       "\n",
       "    .dataframe thead th {\n",
       "        text-align: right;\n",
       "    }\n",
       "</style>\n",
       "<table border=\"1\" class=\"dataframe\">\n",
       "  <thead>\n",
       "    <tr style=\"text-align: right;\">\n",
       "      <th></th>\n",
       "      <th>age</th>\n",
       "      <th>bmi</th>\n",
       "      <th>children</th>\n",
       "      <th>charges</th>\n",
       "    </tr>\n",
       "  </thead>\n",
       "  <tbody>\n",
       "    <tr>\n",
       "      <th>count</th>\n",
       "      <td>1338.000000</td>\n",
       "      <td>1338.000000</td>\n",
       "      <td>1338.000000</td>\n",
       "      <td>1338.000000</td>\n",
       "    </tr>\n",
       "    <tr>\n",
       "      <th>mean</th>\n",
       "      <td>39.207025</td>\n",
       "      <td>30.663397</td>\n",
       "      <td>1.094918</td>\n",
       "      <td>13270.422265</td>\n",
       "    </tr>\n",
       "    <tr>\n",
       "      <th>std</th>\n",
       "      <td>14.049960</td>\n",
       "      <td>6.098187</td>\n",
       "      <td>1.205493</td>\n",
       "      <td>12110.011237</td>\n",
       "    </tr>\n",
       "    <tr>\n",
       "      <th>min</th>\n",
       "      <td>18.000000</td>\n",
       "      <td>15.960000</td>\n",
       "      <td>0.000000</td>\n",
       "      <td>1121.873900</td>\n",
       "    </tr>\n",
       "    <tr>\n",
       "      <th>25%</th>\n",
       "      <td>27.000000</td>\n",
       "      <td>26.296250</td>\n",
       "      <td>0.000000</td>\n",
       "      <td>4740.287150</td>\n",
       "    </tr>\n",
       "    <tr>\n",
       "      <th>50%</th>\n",
       "      <td>39.000000</td>\n",
       "      <td>30.400000</td>\n",
       "      <td>1.000000</td>\n",
       "      <td>9382.033000</td>\n",
       "    </tr>\n",
       "    <tr>\n",
       "      <th>75%</th>\n",
       "      <td>51.000000</td>\n",
       "      <td>34.693750</td>\n",
       "      <td>2.000000</td>\n",
       "      <td>16639.912515</td>\n",
       "    </tr>\n",
       "    <tr>\n",
       "      <th>max</th>\n",
       "      <td>64.000000</td>\n",
       "      <td>53.130000</td>\n",
       "      <td>5.000000</td>\n",
       "      <td>63770.428010</td>\n",
       "    </tr>\n",
       "  </tbody>\n",
       "</table>\n",
       "</div>"
      ],
      "text/plain": [
       "               age          bmi     children       charges\n",
       "count  1338.000000  1338.000000  1338.000000   1338.000000\n",
       "mean     39.207025    30.663397     1.094918  13270.422265\n",
       "std      14.049960     6.098187     1.205493  12110.011237\n",
       "min      18.000000    15.960000     0.000000   1121.873900\n",
       "25%      27.000000    26.296250     0.000000   4740.287150\n",
       "50%      39.000000    30.400000     1.000000   9382.033000\n",
       "75%      51.000000    34.693750     2.000000  16639.912515\n",
       "max      64.000000    53.130000     5.000000  63770.428010"
      ]
     },
     "execution_count": 66,
     "metadata": {},
     "output_type": "execute_result"
    }
   ],
   "source": [
    "Insurance.describe()"
   ]
  },
  {
   "cell_type": "markdown",
   "id": "193622a3-8259-4bd9-8209-cbe4b2e4c2d0",
   "metadata": {},
   "source": [
    "# Data Cleaning and consistency checks"
   ]
  },
  {
   "cell_type": "code",
   "execution_count": 68,
   "id": "12604e00-9b7f-439d-b5ab-fcbc86078dca",
   "metadata": {},
   "outputs": [
    {
     "data": {
      "text/plain": [
       "age         0\n",
       "sex         0\n",
       "bmi         0\n",
       "children    0\n",
       "smoker      0\n",
       "region      0\n",
       "charges     0\n",
       "dtype: int64"
      ]
     },
     "execution_count": 68,
     "metadata": {},
     "output_type": "execute_result"
    }
   ],
   "source": [
    "# checking for missing data vales\n",
    "Insurance.isnull().sum()"
   ]
  },
  {
   "cell_type": "markdown",
   "id": "e2c94b1d-d60f-4f9a-bfe9-7296969e2828",
   "metadata": {},
   "source": [
    "# No missing  values were found "
   ]
  },
  {
   "cell_type": "code",
   "execution_count": 70,
   "id": "0f72fa58-92fc-410d-9f04-2ddcbf8d0aa1",
   "metadata": {},
   "outputs": [
    {
     "name": "stderr",
     "output_type": "stream",
     "text": [
      "C:\\Users\\aaron\\AppData\\Local\\Temp\\ipykernel_31144\\3040197540.py:3: FutureWarning: DataFrame.applymap has been deprecated. Use DataFrame.map instead.\n",
      "  weird = (Insurance[[col]].applymap(type) != Insurance[[col]].iloc[0].apply(type)).any(axis = 1)\n",
      "C:\\Users\\aaron\\AppData\\Local\\Temp\\ipykernel_31144\\3040197540.py:3: FutureWarning: DataFrame.applymap has been deprecated. Use DataFrame.map instead.\n",
      "  weird = (Insurance[[col]].applymap(type) != Insurance[[col]].iloc[0].apply(type)).any(axis = 1)\n",
      "C:\\Users\\aaron\\AppData\\Local\\Temp\\ipykernel_31144\\3040197540.py:3: FutureWarning: DataFrame.applymap has been deprecated. Use DataFrame.map instead.\n",
      "  weird = (Insurance[[col]].applymap(type) != Insurance[[col]].iloc[0].apply(type)).any(axis = 1)\n",
      "C:\\Users\\aaron\\AppData\\Local\\Temp\\ipykernel_31144\\3040197540.py:3: FutureWarning: DataFrame.applymap has been deprecated. Use DataFrame.map instead.\n",
      "  weird = (Insurance[[col]].applymap(type) != Insurance[[col]].iloc[0].apply(type)).any(axis = 1)\n",
      "C:\\Users\\aaron\\AppData\\Local\\Temp\\ipykernel_31144\\3040197540.py:3: FutureWarning: DataFrame.applymap has been deprecated. Use DataFrame.map instead.\n",
      "  weird = (Insurance[[col]].applymap(type) != Insurance[[col]].iloc[0].apply(type)).any(axis = 1)\n",
      "C:\\Users\\aaron\\AppData\\Local\\Temp\\ipykernel_31144\\3040197540.py:3: FutureWarning: DataFrame.applymap has been deprecated. Use DataFrame.map instead.\n",
      "  weird = (Insurance[[col]].applymap(type) != Insurance[[col]].iloc[0].apply(type)).any(axis = 1)\n",
      "C:\\Users\\aaron\\AppData\\Local\\Temp\\ipykernel_31144\\3040197540.py:3: FutureWarning: DataFrame.applymap has been deprecated. Use DataFrame.map instead.\n",
      "  weird = (Insurance[[col]].applymap(type) != Insurance[[col]].iloc[0].apply(type)).any(axis = 1)\n"
     ]
    }
   ],
   "source": [
    "# checking for mixed-type columns\n",
    "for col in Insurance.columns.tolist():\n",
    "  weird = (Insurance[[col]].applymap(type) != Insurance[[col]].iloc[0].apply(type)).any(axis = 1)\n",
    "  if len (Insurance[weird]) > 0:\n",
    "    print (col)"
   ]
  },
  {
   "cell_type": "markdown",
   "id": "8375c657-ae3a-4c22-b4ac-1efad705320d",
   "metadata": {},
   "source": [
    "# No mixed-typed columns"
   ]
  },
  {
   "cell_type": "code",
   "execution_count": 72,
   "id": "5f091ad7-65ff-4748-a500-86ab49c81b8b",
   "metadata": {},
   "outputs": [
    {
     "name": "stdout",
     "output_type": "stream",
     "text": [
      "     age   sex    bmi  children smoker     region    charges\n",
      "581   19  male  30.59         0     no  northwest  1639.5631\n"
     ]
    }
   ],
   "source": [
    "# checking for duplicates\n",
    "duplicates = Insurance[Insurance.duplicated()]\n",
    "print(duplicates)"
   ]
  },
  {
   "cell_type": "markdown",
   "id": "27c7783e-afda-4d13-818b-6a9237cc8a8d",
   "metadata": {},
   "source": [
    "# There was one duplicate. I will keep this duplicate in the data set, It may be a user error or there maybe two people with the same variables."
   ]
  },
  {
   "cell_type": "markdown",
   "id": "e72f1703-6b61-4a9a-ab5f-b74e16361a24",
   "metadata": {},
   "source": [
    "# Changing the data in the bmi column to 1 decimal place "
   ]
  },
  {
   "cell_type": "code",
   "execution_count": 84,
   "id": "9efc1bec-5df8-41a2-8cf3-899e7f937efb",
   "metadata": {},
   "outputs": [
    {
     "name": "stdout",
     "output_type": "stream",
     "text": [
      "      age     sex   bmi  children smoker     region   charges\n",
      "0      19  female  27.9         0    yes  southwest  16884.92\n",
      "1      18    male  33.8         1     no  southeast   1725.55\n",
      "2      28    male  33.0         3     no  southeast   4449.46\n",
      "3      33    male  22.7         0     no  northwest  21984.47\n",
      "4      32    male  28.9         0     no  northwest   3866.86\n",
      "...   ...     ...   ...       ...    ...        ...       ...\n",
      "1333   50    male  31.0         3     no  northwest  10600.55\n",
      "1334   18  female  31.9         0     no  northeast   2205.98\n",
      "1335   18  female  36.8         0     no  southeast   1629.83\n",
      "1336   21  female  25.8         0     no  southwest   2007.94\n",
      "1337   61  female  29.1         0    yes  northwest  29141.36\n",
      "\n",
      "[1338 rows x 7 columns]\n"
     ]
    }
   ],
   "source": [
    "Insurance['bmi'] = Insurance['bmi'].round(1)\n",
    "print(Insurance)"
   ]
  },
  {
   "cell_type": "markdown",
   "id": "209d8575-522c-4fa8-9a7e-33080a743724",
   "metadata": {},
   "source": [
    "# Changing the data in the charges column to 2 decimal places "
   ]
  },
  {
   "cell_type": "code",
   "execution_count": 87,
   "id": "900feacb-5fde-4abc-87f1-fff0703d6b85",
   "metadata": {},
   "outputs": [
    {
     "name": "stdout",
     "output_type": "stream",
     "text": [
      "      age     sex   bmi  children smoker     region   charges\n",
      "0      19  female  27.9         0    yes  southwest  16884.92\n",
      "1      18    male  33.8         1     no  southeast   1725.55\n",
      "2      28    male  33.0         3     no  southeast   4449.46\n",
      "3      33    male  22.7         0     no  northwest  21984.47\n",
      "4      32    male  28.9         0     no  northwest   3866.86\n",
      "...   ...     ...   ...       ...    ...        ...       ...\n",
      "1333   50    male  31.0         3     no  northwest  10600.55\n",
      "1334   18  female  31.9         0     no  northeast   2205.98\n",
      "1335   18  female  36.8         0     no  southeast   1629.83\n",
      "1336   21  female  25.8         0     no  southwest   2007.94\n",
      "1337   61  female  29.1         0    yes  northwest  29141.36\n",
      "\n",
      "[1338 rows x 7 columns]\n"
     ]
    }
   ],
   "source": [
    "Insurance['charges'] = Insurance['charges'].round(2)\n",
    "print(Insurance)"
   ]
  },
  {
   "cell_type": "code",
   "execution_count": 89,
   "id": "d49f8e44-7c73-457e-812a-681b8e24793d",
   "metadata": {},
   "outputs": [],
   "source": [
    "Insurance_cleaned = Insurance"
   ]
  },
  {
   "cell_type": "code",
   "execution_count": 107,
   "id": "ecd63827-61ea-4cca-a7d8-a8ca35d338e6",
   "metadata": {},
   "outputs": [],
   "source": [
    "#Export the cleaned dataframe for insurance\n",
    "Insurance_cleaned.to_csv(os.path.join(path, '02 Data','Prepared data', 'insurance_checked.csv'), index = False) "
   ]
  },
  {
   "cell_type": "code",
   "execution_count": null,
   "id": "2e065684-6538-4fc5-ad71-71d82d04ba83",
   "metadata": {},
   "outputs": [],
   "source": []
  }
 ],
 "metadata": {
  "kernelspec": {
   "display_name": "Python [conda env:base] *",
   "language": "python",
   "name": "conda-base-py"
  },
  "language_info": {
   "codemirror_mode": {
    "name": "ipython",
    "version": 3
   },
   "file_extension": ".py",
   "mimetype": "text/x-python",
   "name": "python",
   "nbconvert_exporter": "python",
   "pygments_lexer": "ipython3",
   "version": "3.12.7"
  }
 },
 "nbformat": 4,
 "nbformat_minor": 5
}
